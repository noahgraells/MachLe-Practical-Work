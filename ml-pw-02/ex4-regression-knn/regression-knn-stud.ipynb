{
 "cells": [
  {
   "cell_type": "markdown",
   "metadata": {},
   "source": [
    "#  Regression with knn exercise 4\n",
    "\n",
    "Read again the definition of a regression system from week 1 of the class. Can we build a regression system using a knn approach ? If yes, describes a potential algorithm using a pseudo code (or full text explanation). If no, explain us the reasons you believe it is not possible.\n",
    "\n",
    "* Oui c'est possible\n",
    "* On récupère les k plus proches voisins puis on se base sur les valeurs récuérées pour interpoler la valeur que l'on cherche. On va plus s'insipirer des valeurs des quelles on est plus proche."
   ]
  },
  {
   "cell_type": "code",
   "execution_count": null,
   "metadata": {},
   "outputs": [],
   "source": []
  }
 ],
 "metadata": {
  "kernelspec": {
   "display_name": "Python 3",
   "language": "python",
   "name": "python3"
  },
  "language_info": {
   "codemirror_mode": {
    "name": "ipython",
    "version": 3
   },
   "file_extension": ".py",
   "mimetype": "text/x-python",
   "name": "python",
   "nbconvert_exporter": "python",
   "pygments_lexer": "ipython3",
   "version": "3.6.8"
  }
 },
 "nbformat": 4,
 "nbformat_minor": 1
}
