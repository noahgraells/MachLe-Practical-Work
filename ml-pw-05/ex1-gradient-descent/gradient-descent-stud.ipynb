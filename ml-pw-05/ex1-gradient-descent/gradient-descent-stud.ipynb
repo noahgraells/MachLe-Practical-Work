{
 "cells": [
  {
   "cell_type": "code",
   "execution_count": 1,
   "metadata": {},
   "outputs": [],
   "source": [
    "def hypothesis(theta,X):  #theta = 1xD, X = DxN, output 1xN\n",
    "    return np.dot(theta,X)\n",
    "\n",
    "def gradientDescent(X,y,learning_rate,num_epoch,verbose=False):\n",
    "    N = X.shape[0]      # number of sample\n",
    "    D = X.shape[1]      # number of dimensions\n",
    "    theta = np.ones(D)  # init thetas to some values\n",
    "    X_trans = X.transpose() # X_trans is DxN\n",
    "    \n",
    "    for i in range(0,num_epoch):\n",
    "        h = hypothesis(theta,X_trans)  #N dimension\n",
    "        loss = h-y                     #N dimension\n",
    "        gradient = X_trans.dot(loss) * (1.0/N)  \n",
    "        theta = theta - learning_rate * (1.0/N) * gradient\n",
    "    return theta"
   ]
  },
  {
   "cell_type": "code",
   "execution_count": null,
   "metadata": {},
   "outputs": [],
   "source": []
  }
 ],
 "metadata": {
  "kernelspec": {
   "display_name": "Python 3",
   "language": "python",
   "name": "python3"
  },
  "language_info": {
   "codemirror_mode": {
    "name": "ipython",
    "version": 3
   },
   "file_extension": ".py",
   "mimetype": "text/x-python",
   "name": "python",
   "nbconvert_exporter": "python",
   "pygments_lexer": "ipython3",
   "version": "3.7.4"
  }
 },
 "nbformat": 4,
 "nbformat_minor": 2
}
