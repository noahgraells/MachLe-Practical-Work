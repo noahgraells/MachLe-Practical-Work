{
 "cells": [
  {
   "cell_type": "code",
   "execution_count": 14,
   "metadata": {},
   "outputs": [],
   "source": [
    "from numpy.linalg import inv\n",
    "import numpy as np\n",
    "import matplotlib.pyplot as plt\n",
    "from mpl_toolkits.mplot3d import Axes3D\n",
    "import pandas as pd\n",
    "import random as rd\n",
    "\n",
    "%matplotlib inline"
   ]
  },
  {
   "cell_type": "code",
   "execution_count": 50,
   "metadata": {},
   "outputs": [],
   "source": [
    "def hypothesis(theta, X):  #theta = 1xD, X = DxN, output 1xN\n",
    "    return np.dot(theta, X)\n",
    "\n",
    "def gradientDescent(X, y, learning_rate, num_epoch, verbose=False):\n",
    "    X = np.c_[np.ones(X.shape[0]),X]\n",
    "    \n",
    "    N = X.shape[0]      # number of sample\n",
    "    D = X.shape[1]      # number of dimensions\n",
    "    theta = np.ones(D)  # init thetas to some values\n",
    "    X_trans = X.transpose() # X_trans is DxN\n",
    "    \n",
    "    for i in range(0, num_epoch):\n",
    "        h = hypothesis(theta, X_trans)  #N dimension\n",
    "        loss = h-y                     #N dimension\n",
    "        gradient = X_trans.dot(loss) * (1.0/N)  \n",
    "        theta = theta - learning_rate * (1.0/N) * gradient\n",
    "    return theta"
   ]
  },
  {
   "cell_type": "code",
   "execution_count": 51,
   "metadata": {},
   "outputs": [],
   "source": [
    "data = np.array(pd.read_excel('lausanne-appart.xlsx'))\n",
    "\n",
    "X = data[:,:2] # Area\n",
    "y = data[:,2]  # Rent price"
   ]
  },
  {
   "cell_type": "code",
   "execution_count": 53,
   "metadata": {},
   "outputs": [
    {
     "data": {
      "text/plain": [
       "array([1.00113867, 1.11488842, 1.00420469])"
      ]
     },
     "execution_count": 53,
     "metadata": {},
     "output_type": "execute_result"
    }
   ],
   "source": [
    "#https://stackoverflow.com/questions/1985856/how-to-make-a-3d-scatter-plot-in-python\n",
    "\n",
    "gradientDescent(X, y, 0.00001, 10)"
   ]
  },
  {
   "cell_type": "code",
   "execution_count": null,
   "metadata": {},
   "outputs": [],
   "source": []
  }
 ],
 "metadata": {
  "kernelspec": {
   "display_name": "Python 3",
   "language": "python",
   "name": "python3"
  },
  "language_info": {
   "codemirror_mode": {
    "name": "ipython",
    "version": 3
   },
   "file_extension": ".py",
   "mimetype": "text/x-python",
   "name": "python",
   "nbconvert_exporter": "python",
   "pygments_lexer": "ipython3",
   "version": "3.7.4"
  }
 },
 "nbformat": 4,
 "nbformat_minor": 2
}
