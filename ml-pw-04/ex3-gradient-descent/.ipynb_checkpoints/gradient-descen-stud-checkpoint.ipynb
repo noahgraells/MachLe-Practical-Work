{
 "cells": [
  {
   "cell_type": "markdown",
   "metadata": {},
   "source": [
    "### Farid Abdalla & Noah Graells"
   ]
  },
  {
   "cell_type": "markdown",
   "metadata": {},
   "source": [
    "# Ex3 Gradient descent for linear regression"
   ]
  },
  {
   "cell_type": "code",
   "execution_count": 1,
   "metadata": {},
   "outputs": [],
   "source": [
    "import numpy as np\n",
    "import pandas as pd\n",
    "import matplotlib.pyplot as plt\n",
    "\n",
    "from pandas import ExcelWriter\n",
    "from pandas import ExcelFile\n",
    "\n",
    "%matplotlib inline"
   ]
  },
  {
   "cell_type": "code",
   "execution_count": 2,
   "metadata": {},
   "outputs": [],
   "source": [
    "data = pd.read_excel('lausanne-appart.xlsx', sheet_names='lausanne-appart')\n",
    "\n",
    "col0 = data['Living area (m2)']\n",
    "col2 = data['rent (CHF)']"
   ]
  },
  {
   "cell_type": "code",
   "execution_count": 3,
   "metadata": {},
   "outputs": [],
   "source": [
    "def hTheta(theta0, theta1, x):\n",
    "    return theta0 + theta1 * x"
   ]
  },
  {
   "cell_type": "code",
   "execution_count": 4,
   "metadata": {},
   "outputs": [],
   "source": [
    "def gradientDescent(X, Y, alpha=0.000001, nbIter=1000):\n",
    "    N = len(X)\n",
    "    theta0 = 0 #np.random.randn(1)\n",
    "    theta1 = 0 #np.random.randn(1)\n",
    "    costs = []\n",
    "    for i in range(nbIter):\n",
    "        sumTheta0 = 0\n",
    "        sumTheta1 = 0\n",
    "        sumCost = 0\n",
    "        for i in range(N):\n",
    "            tmp = hTheta(theta0, theta1, X[i]) - Y[i]\n",
    "            sumTheta0 += tmp\n",
    "            sumTheta1 += tmp * X[i]\n",
    "            sumCost += tmp**2\n",
    "        costs.append(1 / (2*N) * sumCost)\n",
    "        theta0 = theta0 - alpha * 1/N * sumTheta0\n",
    "        theta1 = theta1 - alpha * 1/N * sumTheta1\n",
    "    return theta0, theta1, costs"
   ]
  },
  {
   "cell_type": "code",
   "execution_count": 5,
   "metadata": {},
   "outputs": [
    {
     "name": "stdout",
     "output_type": "stream",
     "text": [
      "Theta 0 :  0.32874661344807843\n",
      "Theta 1 :  28.649555944396436\n"
     ]
    }
   ],
   "source": [
    "theta0, theta1, costs = gradientDescent(col0, col2)\n",
    "print(\"Theta 0 : \", theta0)\n",
    "print(\"Theta 1 : \", theta1)"
   ]
  },
  {
   "cell_type": "markdown",
   "metadata": {},
   "source": [
    "## 3c"
   ]
  },
  {
   "cell_type": "code",
   "execution_count": 6,
   "metadata": {},
   "outputs": [
    {
     "data": {
      "text/plain": [
       "[<matplotlib.lines.Line2D at 0x145df830>]"
      ]
     },
     "execution_count": 6,
     "metadata": {},
     "output_type": "execute_result"
    },
    {
     "data": {
      "image/png": "[encoded data removed]",
      "text/plain": [
       "<Figure size 432x288 with 1 Axes>"
      ]
     },
     "metadata": {
      "needs_background": "light"
     },
     "output_type": "display_data"
    }
   ],
   "source": [
    "plt.scatter(col0, col2)\n",
    "x = np.linspace(0, 250)\n",
    "y = theta0 + theta1*x\n",
    "plt.plot(x, y, color=\"red\")"
   ]
  },
  {
   "cell_type": "markdown",
   "metadata": {},
   "source": [
    "## 3a"
   ]
  },
  {
   "cell_type": "code",
   "execution_count": 7,
   "metadata": {},
   "outputs": [
    {
     "data": {
      "text/plain": [
       "[<matplotlib.lines.Line2D at 0x16682a30>]"
      ]
     },
     "execution_count": 7,
     "metadata": {},
     "output_type": "execute_result"
    },
    {
     "data": {
      "image/png": "[encoded data removed]",
      "text/plain": [
       "<Figure size 432x288 with 1 Axes>"
      ]
     },
     "metadata": {
      "needs_background": "light"
     },
     "output_type": "display_data"
    }
   ],
   "source": [
    "plt.plot(costs)"
   ]
  },
  {
   "cell_type": "markdown",
   "metadata": {},
   "source": [
    "## 3b\n",
    "Instead of doing a fixed number of occurence, we can calculate the difference between the actual cost and the previous cost and if it is under a defined epsilon, we stop gradient descent"
   ]
  },
  {
   "cell_type": "markdown",
   "metadata": {},
   "source": [
    "## 3d"
   ]
  },
  {
   "cell_type": "code",
   "execution_count": 8,
   "metadata": {},
   "outputs": [
    {
     "data": {
      "text/plain": [
       "144159.35828160087"
      ]
     },
     "execution_count": 8,
     "metadata": {},
     "output_type": "execute_result"
    }
   ],
   "source": [
    "costs[-1]"
   ]
  },
  {
   "cell_type": "markdown",
   "metadata": {},
   "source": [
    "144159.35828160087 (exercise 3) compared to 276588446.5373535 (exercise 2). We can see that we have better results with the gradient descent"
   ]
  },
  {
   "cell_type": "code",
   "execution_count": null,
   "metadata": {},
   "outputs": [],
   "source": []
  }
 ],
 "metadata": {
  "kernelspec": {
   "display_name": "Python 3",
   "language": "python",
   "name": "python3"
  },
  "language_info": {
   "codemirror_mode": {
    "name": "ipython",
    "version": 3
   },
   "file_extension": ".py",
   "mimetype": "text/x-python",
   "name": "python",
   "nbconvert_exporter": "python",
   "pygments_lexer": "ipython3",
   "version": "3.7.4"
  }
 },
 "nbformat": 4,
 "nbformat_minor": 2
}
