{
 "cells": [
  {
   "cell_type": "markdown",
   "metadata": {},
   "source": [
    "### Farid Abdalla & Noah Graells"
   ]
  },
  {
   "cell_type": "markdown",
   "metadata": {},
   "source": [
    "# Exe 2 - Normal equations for linear regression"
   ]
  },
  {
   "cell_type": "code",
   "execution_count": 23,
   "metadata": {},
   "outputs": [],
   "source": [
    "import numpy as np\n",
    "import pandas as pd\n",
    "import matplotlib.pyplot as plt\n",
    "\n",
    "from pandas import ExcelWriter\n",
    "from pandas import ExcelFile\n",
    "\n",
    "%matplotlib inline"
   ]
  },
  {
   "cell_type": "code",
   "execution_count": 24,
   "metadata": {},
   "outputs": [],
   "source": [
    "data = np.array(pd.read_excel('lausanne-appart.xlsx', sheet_names='lausanne-appart'))\n",
    "\n",
    "x = data[:,0] # Area\n",
    "y = data[:,2] # Rent price"
   ]
  },
  {
   "cell_type": "markdown",
   "metadata": {},
   "source": [
    "### a) Normal equation"
   ]
  },
  {
   "cell_type": "code",
   "execution_count": 25,
   "metadata": {},
   "outputs": [
    {
     "name": "stdout",
     "output_type": "stream",
     "text": [
      "[240.07710727  26.33242457]\n"
     ]
    }
   ],
   "source": [
    "m = len(data)\n",
    "\n",
    "x_bias = np.ones((m, 1))\n",
    "x = np.reshape(x, (m,1))\n",
    "X = np.append(x_bias, x, axis=1)\n",
    "\n",
    "Xt = np.transpose(X)\n",
    "Xt_dot_X = Xt.dot(X)\n",
    "\n",
    "tmp_inv = np.linalg.inv(Xt_dot_X)\n",
    "tmp_2 = Xt.dot(y)\n",
    "\n",
    "theta = tmp_inv.dot(tmp_2)\n",
    "print(theta)"
   ]
  },
  {
   "cell_type": "code",
   "execution_count": 26,
   "metadata": {},
   "outputs": [
    {
     "data": {
      "text/plain": [
       "[<matplotlib.lines.Line2D at 0x11b2e3c90>]"
      ]
     },
     "execution_count": 26,
     "metadata": {},
     "output_type": "execute_result"
    },
    {
     "data": {
      "image/png": "[encoded data removed]",
      "text/plain": [
       "<Figure size 432x288 with 1 Axes>"
      ]
     },
     "metadata": {
      "needs_background": "light"
     },
     "output_type": "display_data"
    }
   ],
   "source": [
    "new_x = np.linspace(0, 250, 2)\n",
    "new_y = theta[0] + new_x * theta[1] \n",
    "\n",
    "plt.scatter(x, y)\n",
    "plt.plot(new_x, new_y, color='red')"
   ]
  },
  {
   "cell_type": "markdown",
   "metadata": {},
   "source": [
    "### b) Overall cost"
   ]
  },
  {
   "cell_type": "code",
   "execution_count": 27,
   "metadata": {},
   "outputs": [],
   "source": [
    "def j(theta, x, y, n):\n",
    "    return np.sum(((theta[0] + x*theta[1]) - y)**2) / (2*n)"
   ]
  },
  {
   "cell_type": "code",
   "execution_count": 28,
   "metadata": {},
   "outputs": [
    {
     "name": "stdout",
     "output_type": "stream",
     "text": [
      "276588446.5373535\n"
     ]
    }
   ],
   "source": [
    "jt = j(theta, x, y, len(data))\n",
    "print(jt)"
   ]
  },
  {
   "cell_type": "code",
   "execution_count": null,
   "metadata": {},
   "outputs": [],
   "source": []
  }
 ],
 "metadata": {
  "kernelspec": {
   "display_name": "Python 3",
   "language": "python",
   "name": "python3"
  },
  "language_info": {
   "codemirror_mode": {
    "name": "ipython",
    "version": 3
   },
   "file_extension": ".py",
   "mimetype": "text/x-python",
   "name": "python",
   "nbconvert_exporter": "python",
   "pygments_lexer": "ipython3",
   "version": "3.7.4"
  }
 },
 "nbformat": 4,
 "nbformat_minor": 2
}
