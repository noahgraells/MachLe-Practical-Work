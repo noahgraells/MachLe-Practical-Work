{
 "cells": [
  {
   "cell_type": "markdown",
   "metadata": {},
   "source": [
    "### Farid Abdalla & Noah Graells"
   ]
  },
  {
   "cell_type": "markdown",
   "metadata": {},
   "source": [
    "a) On utilise le gradient descent lorsque notre problème n'est pas linéaire. La \"closed form solution\" ne s'applique que lors des regression linéaire\n",
    "\n",
    "b) Puisque les outliers sont des valeurs aberrantes ne définissant pas bien notre dataset, utiliser une de ces valeurs pour converger nous fera converger vers un mauvais résultat. Si on a beaucoup d'outliers, on aura plus de chance de tomber sur une de ces valeurs aberrantes\n",
    "\n",
    "c) Avec un grand alpha, chaque valeur prise a beaucoup d'importance. Si on tombe sur un outlier, il sera fortement pris en compte. Avec un alpha petit, chaque valeur influence un peu notre estimation, mais un outlier n'aura pas un très grand effet sur le décalage.\n",
    "\n",
    "Une combinaison entre les 2 solutions de la slides 37 sont envisageables. La solution avancé permet de s'arrêter quand on a une valeur suffisante, mais lorsque l'alpha est trop grand, on peut ne jamais atteindre l'espilon voulu (boucle infinie). Tandis que le nombre d'itération fixe est fortement dépendant de l'alpha et peut être trop petit ou trop grand. Il serait possible d'utiliser le nombre d'itération comme valeur maximale, et d'utiliser l'epsilon afin d'arrêter prématurément l'exécution.\n",
    "\n",
    "d) On prend la feature $x_d$ que l'on met au carré ou au cube en tant que nouveau paramètre puis on le traite de la même façon.\n",
    "\n",
    "Non, car le gradient descent est magique et fait tout pour nous\n",
    "\n",
    "e) Au lieu d'utiliser le gradient qui indique la direction optimale pour atteindre le minimum, il serait possible de prendre différents échantillons de points autour et de regarder la valeur qui descent le plus."
   ]
  },
  {
   "cell_type": "code",
   "execution_count": null,
   "metadata": {},
   "outputs": [],
   "source": []
  }
 ],
 "metadata": {
  "kernelspec": {
   "display_name": "Python 3",
   "language": "python",
   "name": "python3"
  },
  "language_info": {
   "codemirror_mode": {
    "name": "ipython",
    "version": 3
   },
   "file_extension": ".py",
   "mimetype": "text/x-python",
   "name": "python",
   "nbconvert_exporter": "python",
   "pygments_lexer": "ipython3",
   "version": "3.7.4"
  }
 },
 "nbformat": 4,
 "nbformat_minor": 2
}
