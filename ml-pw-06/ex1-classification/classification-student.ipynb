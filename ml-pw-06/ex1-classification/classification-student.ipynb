{
 "cells": [
  {
   "cell_type": "markdown",
   "metadata": {},
   "source": [
    "### Farid Abdalla & Noah Graells"
   ]
  },
  {
   "cell_type": "code",
   "execution_count": 1,
   "metadata": {},
   "outputs": [],
   "source": [
    "import numpy as np\n",
    "import pandas as pd\n",
    "import matplotlib.pyplot as plt\n",
    "\n",
    "from pandas import ExcelWriter\n",
    "from pandas import ExcelFile\n",
    "\n",
    "%matplotlib inline"
   ]
  },
  {
   "cell_type": "code",
   "execution_count": 2,
   "metadata": {},
   "outputs": [],
   "source": [
    "data_train = np.genfromtxt('student-dataset-train.csv', delimiter=',')\n",
    "data_test = np.genfromtxt('student-dataset-test.csv', delimiter=',')"
   ]
  },
  {
   "cell_type": "code",
   "execution_count": 3,
   "metadata": {},
   "outputs": [
    {
     "data": {
      "image/png": "[encoded data removed]",
      "text/plain": [
       "<Figure size 432x288 with 1 Axes>"
      ]
     },
     "metadata": {
      "needs_background": "light"
     },
     "output_type": "display_data"
    }
   ],
   "source": [
    "colors = (\"red\", \"green\")\n",
    "markers = ('x', 'o')\n",
    "fig = plt.figure()\n",
    "ax = fig.add_subplot(1, 1, 1)\n",
    "ax.set_xlim([20, 110])\n",
    "ax.set_ylim([20, 110])\n",
    "\n",
    "not_admitted = np.array([data[:2] for data in data_train if data[2] == 0.0])\n",
    "admitted = np.array([data[:2] for data in data_train if data[2] == 1.0])\n",
    "\n",
    "not_admitted_graph = ax.scatter(admitted[:, 0], admitted[:, 1], alpha=0.8, c=colors[0], marker=markers[0], edgecolors='none', s=30)\n",
    "admitted_graph = ax.scatter(not_admitted[:, 0], not_admitted[:, 1], alpha=0.8, c=colors[1], marker=markers[1], edgecolors='none', s=30)\n",
    "\n",
    "plt.title('Matplot scatter plot')\n",
    "plt.legend([not_admitted_graph, admitted_graph], [\"not admitted\", \"admitted\"], loc=1)\n",
    "plt.show()"
   ]
  },
  {
   "cell_type": "code",
   "execution_count": 4,
   "metadata": {},
   "outputs": [],
   "source": [
    "X_train = data_train[:, :2]\n",
    "X_test = data_train[:, :2]\n",
    "y_train = data_train[:, -1]\n",
    "y_test = data_train[:, -1]\n",
    "\n",
    "X_train = np.c_[np.ones(np.shape(X_train)[0]), X_train ]\n",
    "X_test = np.c_[np.ones(np.shape(X_test)[0]), X_test ]"
   ]
  },
  {
   "cell_type": "code",
   "execution_count": 5,
   "metadata": {},
   "outputs": [
    {
     "name": "stdout",
     "output_type": "stream",
     "text": [
      "Shape X train : (100, 3)\n",
      "Shape X test : (100, 3)\n",
      "Shape y train : (100,)\n",
      "Shape y test : (100,)\n"
     ]
    }
   ],
   "source": [
    "print(f\"Shape X train : {np.shape(X_train)}\")\n",
    "print(f\"Shape X test : {np.shape(X_test)}\")\n",
    "print(f\"Shape y train : {np.shape(y_train)}\")\n",
    "print(f\"Shape y test : {np.shape(y_test)}\")"
   ]
  },
  {
   "cell_type": "code",
   "execution_count": 6,
   "metadata": {},
   "outputs": [],
   "source": [
    "# Z-normalization\n",
    "mean_x1 = np.mean(X_train[1])\n",
    "mean_x2 = np.mean(X_train[2])\n",
    "\n",
    "var_x1 = np.std(X_train[1])\n",
    "var_x2 = np.std(X_train[2])\n",
    "\n",
    "X_train[:,1] = (X_train[:,1] - mean_x1) / var_x1\n",
    "X_train[:,2] = (X_train[:,2] - mean_x2) / var_x2"
   ]
  },
  {
   "cell_type": "code",
   "execution_count": 7,
   "metadata": {},
   "outputs": [],
   "source": [
    "def sigmoid(z):\n",
    "    return 1 / (1 + np.exp(-z))"
   ]
  },
  {
   "cell_type": "code",
   "execution_count": 8,
   "metadata": {},
   "outputs": [
    {
     "data": {
      "text/plain": [
       "[<matplotlib.lines.Line2D at 0x1665db30>]"
      ]
     },
     "execution_count": 8,
     "metadata": {},
     "output_type": "execute_result"
    },
    {
     "data": {
      "image/png": "[encoded data removed]",
      "text/plain": [
       "<Figure size 432x288 with 1 Axes>"
      ]
     },
     "metadata": {
      "needs_background": "light"
     },
     "output_type": "display_data"
    }
   ],
   "source": [
    "new_x = np.linspace(-10, 10)\n",
    "plt.plot(new_x, sigmoid(new_x))"
   ]
  },
  {
   "cell_type": "code",
   "execution_count": 9,
   "metadata": {},
   "outputs": [],
   "source": [
    "def hTheta(theta, x):\n",
    "    return sigmoid(np.dot(x, theta))"
   ]
  },
  {
   "cell_type": "code",
   "execution_count": 10,
   "metadata": {},
   "outputs": [],
   "source": [
    "def jTheta(theta, X, y):\n",
    "    epsilon = 1e-6\n",
    "    h = hTheta(theta, X)\n",
    "    N = len(X)\n",
    "    return np.sum(y * np.log(h + epsilon) + (1-y) * np.log(1 - h + epsilon)) / N"
   ]
  },
  {
   "cell_type": "code",
   "execution_count": 11,
   "metadata": {},
   "outputs": [],
   "source": [
    "def gradientAscent(X, y, learning_rate, num_epoch):\n",
    "    N = X.shape[0]\n",
    "    D = X.shape[1]\n",
    "    theta = np.zeros(D)\n",
    "    Js = np.zeros(num_epoch)\n",
    "    for i in range(num_epoch):\n",
    "        h = hTheta(theta, X)\n",
    "        theta = theta + learning_rate * (y - hTheta(theta, X)).dot(X) / N\n",
    "        Js[i] = jTheta(theta, X, y)\n",
    "    \n",
    "    return theta, Js"
   ]
  },
  {
   "cell_type": "code",
   "execution_count": 12,
   "metadata": {},
   "outputs": [
    {
     "name": "stdout",
     "output_type": "stream",
     "text": [
      "[-12.62236307   3.69096815   5.91481784]\n"
     ]
    }
   ],
   "source": [
    "theta, J = gradientAscent(X_train, y_train, 0.011, 1000000)\n",
    "print(theta)"
   ]
  },
  {
   "cell_type": "code",
   "execution_count": 13,
   "metadata": {},
   "outputs": [
    {
     "name": "stdout",
     "output_type": "stream",
     "text": [
      "Correct : 89\n",
      "Percentage : 0.89\n"
     ]
    }
   ],
   "source": [
    "X_test[:,1] = (X_test[:,1] - mean_x1) / var_x1\n",
    "X_test[:,2] = (X_test[:,2] - mean_x2) / var_x2\n",
    "\n",
    "h_test = hTheta(theta, X_test)\n",
    "h_final = h_test >= 0.5\n",
    "correct = np.sum(h_final == y_test)\n",
    "print(f\"Correct : {correct}\")\n",
    "print(f\"Percentage : {correct / len(X_test)}\")"
   ]
  },
  {
   "cell_type": "code",
   "execution_count": 14,
   "metadata": {},
   "outputs": [
    {
     "data": {
      "text/plain": [
       "[<matplotlib.lines.Line2D at 0x166b2730>]"
      ]
     },
     "execution_count": 14,
     "metadata": {},
     "output_type": "execute_result"
    },
    {
     "data": {
      "image/png": "[encoded data removed]",
      "text/plain": [
       "<Figure size 432x288 with 1 Axes>"
      ]
     },
     "metadata": {
      "needs_background": "light"
     },
     "output_type": "display_data"
    }
   ],
   "source": [
    "plt.plot(J)"
   ]
  },
  {
   "cell_type": "code",
   "execution_count": null,
   "metadata": {},
   "outputs": [],
   "source": []
  }
 ],
 "metadata": {
  "kernelspec": {
   "display_name": "Python 3",
   "language": "python",
   "name": "python3"
  },
  "language_info": {
   "codemirror_mode": {
    "name": "ipython",
    "version": 3
   },
   "file_extension": ".py",
   "mimetype": "text/x-python",
   "name": "python",
   "nbconvert_exporter": "python",
   "pygments_lexer": "ipython3",
   "version": "3.7.4"
  }
 },
 "nbformat": 4,
 "nbformat_minor": 2
}
