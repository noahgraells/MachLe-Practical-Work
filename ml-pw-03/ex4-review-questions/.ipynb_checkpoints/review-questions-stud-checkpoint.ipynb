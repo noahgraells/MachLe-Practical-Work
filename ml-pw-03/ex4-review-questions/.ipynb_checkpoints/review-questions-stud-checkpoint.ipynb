{
 "cells": [
  {
   "cell_type": "markdown",
   "metadata": {},
   "source": [
    "### Farid Abdalla & Noah Graells"
   ]
  },
  {
   "cell_type": "markdown",
   "metadata": {},
   "source": [
    "a)\n",
    "$P(C_k)$ is a simple calcul and is already calculated during the training, thus $O(1)$\n",
    "\n",
    "$P(x|C_k)$ depends on the number of class that we have and the dimension of x. We have to calculate for each class (k) times the dimension of x : $O(K*D)$\n",
    "\n",
    "b) \n",
    "We take random numbers in the desired range (preferably a range inside our set of data) and look in which class our classifier place the new values. We can use a threshold in order to generate new values that are more likely to be correct (say 90%)\n",
    "\n",
    "c)\n",
    "A contains 5 more values than B. $P(A)$ = $5*P(B)$ so the system will more likely classify as A than B. The minimal accuracy is 0.83."
   ]
  },
  {
   "cell_type": "code",
   "execution_count": null,
   "metadata": {},
   "outputs": [],
   "source": []
  }
 ],
 "metadata": {
  "kernelspec": {
   "display_name": "Python 3",
   "language": "python",
   "name": "python3"
  },
  "language_info": {
   "codemirror_mode": {
    "name": "ipython",
    "version": 3
   },
   "file_extension": ".py",
   "mimetype": "text/x-python",
   "name": "python",
   "nbconvert_exporter": "python",
   "pygments_lexer": "ipython3",
   "version": "3.7.4"
  }
 },
 "nbformat": 4,
 "nbformat_minor": 2
}
