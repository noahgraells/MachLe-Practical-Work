{
 "cells": [
  {
   "cell_type": "markdown",
   "metadata": {},
   "source": [
    "### Farid Abdalla & Noah Graells"
   ]
  },
  {
   "cell_type": "markdown",
   "metadata": {},
   "source": [
    "# Exerice 2 : System evaluation"
   ]
  },
  {
   "cell_type": "code",
   "execution_count": 1,
   "metadata": {},
   "outputs": [],
   "source": [
    "import numpy as np\n",
    "import matplotlib.pyplot as plt\n",
    "import seaborn as sn\n",
    "import pandas as pd\n",
    "\n",
    "syst_a = np.genfromtxt('ex2-system-a.csv', delimiter=';')\n",
    "syst_b = np.genfromtxt('ex2-system-b.csv', delimiter=';')"
   ]
  },
  {
   "cell_type": "code",
   "execution_count": 2,
   "metadata": {},
   "outputs": [],
   "source": [
    "# remove last empty col\n",
    "syst_a = np.array([x[:-1] for x in syst_a])\n",
    "syst_b = np.array([x[:-1] for x in syst_b])\n",
    "\n",
    "# get the ground truth for each prediction\n",
    "syst_a_true = np.array([int(x[-1]) for x in syst_a])\n",
    "syst_b_true = np.array([int(x[-1]) for x in syst_b])\n",
    "\n",
    "# remove the ground truth col from prediction arrays\n",
    "syst_a = np.array([x[:-1] for x in syst_a])\n",
    "syst_b = np.array([x[:-1] for x in syst_b])"
   ]
  },
  {
   "cell_type": "markdown",
   "metadata": {},
   "source": [
    "### a) Classification decisions"
   ]
  },
  {
   "cell_type": "code",
   "execution_count": 3,
   "metadata": {},
   "outputs": [],
   "source": [
    "def bayes_classification_decisions(preds):\n",
    "    res = []\n",
    "    for entry in preds:\n",
    "        max_ind = 0\n",
    "        for i in range(len(entry)):\n",
    "            if entry[i] >= entry[max_ind]:\n",
    "                max_ind = i\n",
    "        res.append(max_ind)\n",
    "     \n",
    "    return res"
   ]
  },
  {
   "cell_type": "code",
   "execution_count": 4,
   "metadata": {},
   "outputs": [],
   "source": [
    "syst_a_pred = np.array(bayes_classification_decisions(syst_a))\n",
    "syst_b_pred = np.array(bayes_classification_decisions(syst_b))"
   ]
  },
  {
   "cell_type": "markdown",
   "metadata": {},
   "source": [
    "### b) Error rate"
   ]
  },
  {
   "cell_type": "code",
   "execution_count": 5,
   "metadata": {},
   "outputs": [],
   "source": [
    "def error_rate(gt, pred):\n",
    "    return (gt != pred).sum()/len(gt)"
   ]
  },
  {
   "cell_type": "code",
   "execution_count": 6,
   "metadata": {},
   "outputs": [
    {
     "name": "stdout",
     "output_type": "stream",
     "text": [
      "System a error rate : 0.1073\n"
     ]
    }
   ],
   "source": [
    "print(\"System a error rate :\", error_rate(syst_a_true, syst_a_pred))"
   ]
  },
  {
   "cell_type": "markdown",
   "metadata": {},
   "source": [
    "### c) Confusion matrix"
   ]
  },
  {
   "cell_type": "code",
   "execution_count": 7,
   "metadata": {},
   "outputs": [],
   "source": [
    "def confusion_matrix(gt, pred, class_count):\n",
    "    conf_mat = np.array([[0 for x in range(class_count)] for x in range(class_count)])\n",
    "    for i in range(len(gt)) :\n",
    "        conf_mat[gt[i]][pred[i]] = conf_mat[gt[i]][pred[i]] + 1 \n",
    "    return conf_mat"
   ]
  },
  {
   "cell_type": "code",
   "execution_count": 8,
   "metadata": {},
   "outputs": [],
   "source": [
    "def print_confusion_matrix(conf_mat, class_count):\n",
    "    fig, ax = plt.subplots()\n",
    "    im = ax.imshow(a_conf_mat)\n",
    "\n",
    "    # Loop over data dimensions and create text annotations.\n",
    "    for i in range(class_count):\n",
    "        for j in range(class_count):\n",
    "            text = ax.text(j, i, conf_mat[i, j], ha=\"center\", va=\"center\", color=\"w\")\n",
    "\n",
    "    plt.show()"
   ]
  },
  {
   "cell_type": "code",
   "execution_count": 9,
   "metadata": {},
   "outputs": [
    {
     "name": "stdout",
     "output_type": "stream",
     "text": [
      "System a confusion matrix :\n"
     ]
    },
    {
     "data": {
      "image/png": "[encoded data removed]",
      "text/plain": [
       "<Figure size 432x288 with 1 Axes>"
      ]
     },
     "metadata": {
      "needs_background": "light"
     },
     "output_type": "display_data"
    }
   ],
   "source": [
    "print(\"System a confusion matrix :\")\n",
    "a_conf_mat = confusion_matrix(syst_a_true, syst_a_pred, 10)\n",
    "print_confusion_matrix(a_conf_mat, 10)"
   ]
  },
  {
   "cell_type": "markdown",
   "metadata": {},
   "source": [
    "### d) Precision and recall"
   ]
  },
  {
   "cell_type": "code",
   "execution_count": 10,
   "metadata": {},
   "outputs": [],
   "source": [
    "def precision(conf_mat, class_id):\n",
    "    col = np.array([x[class_id] for x in conf_mat])\n",
    "    return col[class_id] / col.sum()"
   ]
  },
  {
   "cell_type": "code",
   "execution_count": 11,
   "metadata": {},
   "outputs": [],
   "source": [
    "def recall(conf_mat, class_id):\n",
    "    line = conf_mat[class_id]\n",
    "    return line[class_id] / line.sum()"
   ]
  },
  {
   "cell_type": "code",
   "execution_count": 12,
   "metadata": {},
   "outputs": [],
   "source": [
    "def f1_score(precision, recall):\n",
    "    return 2*((precision*recall)/(precision+recall))"
   ]
  },
  {
   "cell_type": "code",
   "execution_count": 13,
   "metadata": {},
   "outputs": [],
   "source": [
    "from prettytable import PrettyTable\n",
    "\n",
    "def summary(conf_mat, class_count):\n",
    "    t = PrettyTable(['Class', 'Precision', 'Recall', 'F1 score'])\n",
    "    \n",
    "    for i in range(class_count):\n",
    "        prec = precision(conf_mat, i)\n",
    "        reca = recall(conf_mat, i)\n",
    "        scor = f1_score(prec, reca)\n",
    "        t.add_row([i, round(prec,3), round(reca,3), round(scor,3)])\n",
    "    \n",
    "    print(t)"
   ]
  },
  {
   "cell_type": "code",
   "execution_count": 14,
   "metadata": {},
   "outputs": [
    {
     "name": "stdout",
     "output_type": "stream",
     "text": [
      "System a metrics :\n",
      "+-------+-----------+--------+----------+\n",
      "| Class | Precision | Recall | F1 score |\n",
      "+-------+-----------+--------+----------+\n",
      "|   0   |   0.939   | 0.963  |  0.951   |\n",
      "|   1   |   0.957   |  0.98  |  0.968   |\n",
      "|   2   |   0.875   | 0.892  |  0.884   |\n",
      "|   3   |   0.891   | 0.853  |  0.872   |\n",
      "|   4   |   0.864   | 0.927  |  0.894   |\n",
      "|   5   |   0.814   | 0.861  |  0.837   |\n",
      "|   6   |   0.905   | 0.903  |  0.904   |\n",
      "|   7   |   0.886   | 0.904  |  0.895   |\n",
      "|   8   |   0.899   | 0.793  |  0.842   |\n",
      "|   9   |   0.885   | 0.836  |   0.86   |\n",
      "+-------+-----------+--------+----------+\n"
     ]
    }
   ],
   "source": [
    "print(\"System a metrics :\")\n",
    "summary(a_conf_mat, 10)"
   ]
  },
  {
   "cell_type": "markdown",
   "metadata": {},
   "source": [
    "* La meilleure classe en terme de recall et de f1-score est la classe 1\n",
    "* La pire classe en terme de recall est la classe 9 et en terme de f1-score la 5"
   ]
  },
  {
   "cell_type": "markdown",
   "metadata": {},
   "source": [
    "### e) System b"
   ]
  },
  {
   "cell_type": "code",
   "execution_count": 16,
   "metadata": {},
   "outputs": [
    {
     "name": "stdout",
     "output_type": "stream",
     "text": [
      "System a error rate : 0.1073\n",
      "System b error rate : 0.0387\n",
      "\n",
      "System b metrics\n",
      "+-------+-----------+--------+----------+\n",
      "| Class | Precision | Recall | F1 score |\n",
      "+-------+-----------+--------+----------+\n",
      "|   0   |    0.97   | 0.983  |  0.976   |\n",
      "|   1   |   0.984   | 0.989  |  0.987   |\n",
      "|   2   |    0.95   | 0.965  |  0.958   |\n",
      "|   3   |   0.925   | 0.975  |  0.949   |\n",
      "|   4   |   0.968   | 0.955  |  0.962   |\n",
      "|   5   |   0.972   |  0.93  |  0.951   |\n",
      "|   6   |   0.956   | 0.971  |  0.963   |\n",
      "|   7   |   0.967   | 0.954  |  0.961   |\n",
      "|   8   |   0.963   | 0.936  |   0.95   |\n",
      "|   9   |   0.959   | 0.946  |  0.953   |\n",
      "+-------+-----------+--------+----------+\n"
     ]
    }
   ],
   "source": [
    "print(\"System a error rate :\", error_rate(syst_a_true, syst_a_pred))\n",
    "print(\"System b error rate :\", error_rate(syst_b_true, syst_b_pred))\n",
    "\n",
    "print(\"\\nSystem b metrics\")\n",
    "b_conf_mat = confusion_matrix(syst_b_true, syst_b_pred, 10)\n",
    "summary(b_conf_mat, 10)"
   ]
  },
  {
   "cell_type": "markdown",
   "metadata": {},
   "source": [
    "En regardant les deux systèmes, on remarque que le b est meilleur autant en taux d'erreur que en f1 score"
   ]
  },
  {
   "cell_type": "code",
   "execution_count": null,
   "metadata": {},
   "outputs": [],
   "source": []
  }
 ],
 "metadata": {
  "kernelspec": {
   "display_name": "Python 3",
   "language": "python",
   "name": "python3"
  },
  "language_info": {
   "codemirror_mode": {
    "name": "ipython",
    "version": 3
   },
   "file_extension": ".py",
   "mimetype": "text/x-python",
   "name": "python",
   "nbconvert_exporter": "python",
   "pygments_lexer": "ipython3",
   "version": "3.7.4"
  }
 },
 "nbformat": 4,
 "nbformat_minor": 2
}
