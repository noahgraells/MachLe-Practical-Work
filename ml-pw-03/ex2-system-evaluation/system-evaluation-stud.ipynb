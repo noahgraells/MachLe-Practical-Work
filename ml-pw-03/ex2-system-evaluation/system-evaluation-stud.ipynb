{
 "cells": [
  {
   "cell_type": "markdown",
   "metadata": {},
   "source": [
    "### Farid Abdalla & Noah Graells"
   ]
  },
  {
   "cell_type": "markdown",
   "metadata": {},
   "source": [
    "# Exerice 2 : System evaluation"
   ]
  },
  {
   "cell_type": "code",
   "execution_count": 161,
   "metadata": {},
   "outputs": [],
   "source": [
    "import numpy as np\n",
    "import matplotlib.pyplot as plt\n",
    "import seaborn as sn\n",
    "import pandas as pd\n",
    "\n",
    "syst_a = np.genfromtxt('ex2-system-a.csv', delimiter=';')\n",
    "syst_b = np.genfromtxt('ex2-system-b.csv', delimiter=';')"
   ]
  },
  {
   "cell_type": "code",
   "execution_count": 162,
   "metadata": {},
   "outputs": [
    {
     "name": "stdout",
     "output_type": "stream",
     "text": [
      "(10000, 11)\n",
      "(10000, 11)\n",
      "[7 2 1 ... 4 5 6]\n",
      "[7 2 1 ... 4 5 6]\n",
      "(10000, 10)\n",
      "(10000, 10)\n"
     ]
    }
   ],
   "source": [
    "# remove last empty col\n",
    "syst_a = np.array([x[:-1] for x in syst_a])\n",
    "syst_b = np.array([x[:-1] for x in syst_b])\n",
    "print(syst_a.shape)\n",
    "print(syst_b.shape)\n",
    "\n",
    "# get the ground truth for each prediction\n",
    "syst_a_gt = np.array([int(x[-1]) for x in syst_a])\n",
    "syst_b_gt = np.array([int(x[-1]) for x in syst_b])\n",
    "print(syst_a_gt)\n",
    "print(syst_b_gt)\n",
    "\n",
    "# remove the ground truth col from prediction arrays\n",
    "syst_a = np.array([x[:-1] for x in syst_a])\n",
    "syst_b = np.array([x[:-1] for x in syst_b])\n",
    "print(syst_a.shape)\n",
    "print(syst_b.shape)"
   ]
  },
  {
   "cell_type": "markdown",
   "metadata": {},
   "source": [
    "### a) Classification decisions"
   ]
  },
  {
   "cell_type": "code",
   "execution_count": 163,
   "metadata": {},
   "outputs": [],
   "source": [
    "def bayes_classification_decisions(preds):\n",
    "    res = []\n",
    "    for entry in preds:\n",
    "        max_ind = 0\n",
    "        for i in range(len(entry)):\n",
    "            if entry[i] >= entry[max_ind]:\n",
    "                max_ind = i\n",
    "        res.append(max_ind)\n",
    "     \n",
    "    return res"
   ]
  },
  {
   "cell_type": "code",
   "execution_count": 164,
   "metadata": {},
   "outputs": [],
   "source": [
    "syst_a_pred = np.array(bayes_classification_decisions(syst_a))\n",
    "syst_b_pred = np.array(bayes_classification_decisions(syst_b))"
   ]
  },
  {
   "cell_type": "markdown",
   "metadata": {},
   "source": [
    "### b) Error rate"
   ]
  },
  {
   "cell_type": "code",
   "execution_count": 165,
   "metadata": {},
   "outputs": [],
   "source": [
    "def error_rate(gt, pred):\n",
    "    return (gt != pred).sum()/len(gt)"
   ]
  },
  {
   "cell_type": "code",
   "execution_count": 166,
   "metadata": {},
   "outputs": [
    {
     "name": "stdout",
     "output_type": "stream",
     "text": [
      "System a error rate : 0.1073\n",
      "System b error rate : 0.0387\n"
     ]
    }
   ],
   "source": [
    "print(\"System a error rate :\", error_rate(syst_a_gt, syst_a_pred))\n",
    "print(\"System b error rate :\", error_rate(syst_b_gt, syst_b_pred))"
   ]
  },
  {
   "cell_type": "markdown",
   "metadata": {},
   "source": [
    "### c) Confusion matrix"
   ]
  },
  {
   "cell_type": "code",
   "execution_count": 178,
   "metadata": {},
   "outputs": [],
   "source": [
    "def confusion_matrix(gt, pred, class_count):\n",
    "    conf_mat = np.array([[0 for x in range(class_count)] for x in range(class_count)])\n",
    "    for i in range(len(gt)) :\n",
    "        conf_mat[gt[i]][pred[i]] = conf_mat[gt[i]][pred[i]] + 1 \n",
    "    return conf_mat"
   ]
  },
  {
   "cell_type": "code",
   "execution_count": 179,
   "metadata": {},
   "outputs": [
    {
     "name": "stdout",
     "output_type": "stream",
     "text": [
      "System a confusion matrix :\n",
      "[[ 944    0   11    0    0    2   10    7    5    1]\n",
      " [   0 1112    2    3    1    4    3    1    9    0]\n",
      " [  10    6  921   12   15    3   19   15   26    5]\n",
      " [   1    1   31  862    2   72    5   14   12   10]\n",
      " [   2    3    6    2  910    1   12    6    4   36]\n",
      " [  12    3    6   29   19  768   19    9   21    6]\n",
      " [  14    3   21    2   22   28  865    0    3    0]\n",
      " [   0   14   30    9    7    2    1  929    3   33]\n",
      " [  12   16   18   26   24   46   22   19  772   19]\n",
      " [  10    4    6   22   53   18    0   48    4  844]] \n",
      "\n",
      "System b confusion matrix :\n",
      "[[ 963    0    4    1    0    2    6    2    2    0]\n",
      " [   0 1123    3    1    0    0    5    1    2    0]\n",
      " [   5    0  996    7    4    0    4    8    6    2]\n",
      " [   0    0   13  985    0    3    1    3    3    2]\n",
      " [   1    2    4    0  938    1    9    2    5   20]\n",
      " [   8    1    0   27    1  830   12    1    8    4]\n",
      " [   6    3    2    1    7    4  930    1    4    0]\n",
      " [   0    7   18   10    3    1    0  981    0    8]\n",
      " [   7    1    7   19    5    7    4    7  912    5]\n",
      " [   3    4    1   14   11    6    2    8    5  955]]\n"
     ]
    }
   ],
   "source": [
    "print(\"System a confusion matrix :\")\n",
    "a_conf_mat = confusion_matrix(syst_a_gt, syst_a_pred, 10)\n",
    "print(a_conf_mat, \"\\n\")\n",
    "\n",
    "print(\"System b confusion matrix :\")\n",
    "b_conf_mat = confusion_matrix(syst_b_gt, syst_b_pred, 10)\n",
    "print(b_conf_mat)"
   ]
  },
  {
   "cell_type": "markdown",
   "metadata": {},
   "source": [
    "### d) Precision and recall"
   ]
  },
  {
   "cell_type": "code",
   "execution_count": null,
   "metadata": {},
   "outputs": [],
   "source": [
    "def "
   ]
  }
 ],
 "metadata": {
  "kernelspec": {
   "display_name": "Python 3",
   "language": "python",
   "name": "python3"
  },
  "language_info": {
   "codemirror_mode": {
    "name": "ipython",
    "version": 3
   },
   "file_extension": ".py",
   "mimetype": "text/x-python",
   "name": "python",
   "nbconvert_exporter": "python",
   "pygments_lexer": "ipython3",
   "version": "3.7.4"
  }
 },
 "nbformat": 4,
 "nbformat_minor": 2
}
